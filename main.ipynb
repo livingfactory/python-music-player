{
  "metadata": {
    "kernelspec": {
      "name": "python",
      "display_name": "Python (Pyodide)",
      "language": "python"
    },
    "language_info": {
      "codemirror_mode": {
        "name": "python",
        "version": 3
      },
      "file_extension": ".py",
      "mimetype": "text/x-python",
      "name": "python",
      "nbconvert_exporter": "python",
      "pygments_lexer": "ipython3",
      "version": "3.8"
    }
  },
  "nbformat_minor": 5,
  "nbformat": 4,
  "cells": [
    {
      "cell_type": "markdown",
      "source": "import pygame\nfrom tkinter import *\n\npygame.init()\nmixer.music.load('filename.wav')\n\nclass Track:\n    \"\"\"\n    The \"Track\" object holds \n    \"\"\"\n    def __init__(self, title = \"N/A\", artist = \"N/A\", file = \"error.wav\"): # default values set\n    self.title = title\n    self.year = year\n    self.file = file\n    \n    @property\n    def title(self):\n        \"\"\"\n        Function to return the track's title.\n        \"\"\"\n        return self.__title\n    \n    @property\n    def artist(self):\n        \"\"\"\n        Function to return the track's artist.\n        \"\"\"\n        return self.__artist\n    \n    @property\n    def file(self):\n        \"\"\"\n        Function to return the track's file.\n        \"\"\"\n        return self.__file\n    \n\ndef playTrack():\n    \"\"\"\n    Function to play and resume a track.\n    \"\"\"\n    mixer.music.play() # play for the first time, but\n    mixer.music.unpause() # for each other timee\n\ndef pauseTrack():\n    \"\"\"\n    Function to pause a track.\n    \"\"\"\n    mixer.music.pause()\n\n\n# while True: <-------- infinite loop to run our program\n#\n#\n# (10/30)\n# https://www.educative.io/answers/how-to-play-an-audio-file-in-pygame\n# learn basic load, play, pause mixer functions\n#\n# (11/3) \n# yesterday in clas we learned how to make an object. we can use this for\n# our movies. refer to Lab 10 for notes.",
      "metadata": {},
      "id": "a35eeb9f-df70-4ab1-a243-2d2025888eb0"
    }
  ]
}